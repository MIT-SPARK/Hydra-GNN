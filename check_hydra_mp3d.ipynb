{
 "cells": [
  {
   "cell_type": "code",
   "execution_count": null,
   "metadata": {},
   "outputs": [],
   "source": [
    "\"\"\"Compare room-object occurences in hydra graphs and ground-truth mp3d graphs\"\"\"\n",
    "from collections import Counter\n",
    "import os\n",
    "import numpy as np\n",
    "import spark_dsg as dsg\n",
    "from spark_dsg.mp3d import load_mp3d_info, add_gt_room_label, get_rooms_from_mp3d_info, repartition_rooms\n",
    "from hydra_gnn.preprocess_dsgs import get_room_object_dsg, OBJECT_LABELS\n",
    "from hydra_gnn.utils import HYDRA_TRAJ_DIR, MP3D_HOUSE_DIR\n",
    "from debug_utils import plot_room_object_heatmap, plot_room_barchart, plot_object_barchart, \\\n",
    "    object_label_list, mp3d_object_data, room_label_dict, room_label_list\n",
    "from ipywidgets import IntProgress\n",
    "\n",
    "# default grouped room labels (for learning): \n",
    "#   room_synonyms = [('a', 't'), ('z', 'Z', 'x', 'p')]\n",
    "# The first tuple is toilet/bathroom, the second is outdoor/unlabeled space. Change this setting in debug_utils.py if needed.\n",
    "\n",
    "# dataset offset\n",
    "hydra_angle_deg = -90.0  # rotate mp3d rooms by this angle to match hydra graphs "
   ]
  },
  {
   "attachments": {},
   "cell_type": "markdown",
   "metadata": {},
   "source": [
    "## Object and room labels"
   ]
  },
  {
   "cell_type": "code",
   "execution_count": null,
   "metadata": {},
   "outputs": [],
   "source": [
    "num_object_labels = len(object_label_list)\n",
    "print('object semantic labels:\\n  ', object_label_list)"
   ]
  },
  {
   "cell_type": "code",
   "execution_count": null,
   "metadata": {},
   "outputs": [],
   "source": [
    "# hydra/mp3d label index to training label index mapping\n",
    "hydra_object_label_dict = dict(zip(OBJECT_LABELS, range(len(OBJECT_LABELS))))\n",
    "print('Hydra object label to training label:\\n  ', hydra_object_label_dict)\n",
    "\n",
    "mp3d_object_label = [int(mp3d_object_data[mp3d_object_data['mpcat40']==label]['mpcat40index']) for label in object_label_list]\n",
    "mp3d_object_label_dict = dict(zip(mp3d_object_label, range(len(mp3d_object_label))))\n",
    "print('Mp3d object label to training label:\\n  ', mp3d_object_label_dict)\n"
   ]
  },
  {
   "cell_type": "code",
   "execution_count": null,
   "metadata": {},
   "outputs": [],
   "source": [
    "num_room_labels = len(room_label_list)\n",
    "print('room semantic labels:\\n  ', room_label_list)"
   ]
  },
  {
   "cell_type": "code",
   "execution_count": null,
   "metadata": {},
   "outputs": [],
   "source": [
    "# mp3d room semantic label to training label index mapping \n",
    "print('room semantic label to training label:\\n  ', room_label_dict)"
   ]
  },
  {
   "cell_type": "markdown",
   "metadata": {},
   "source": [
    "## Load dataset files"
   ]
  },
  {
   "cell_type": "code",
   "execution_count": null,
   "metadata": {},
   "outputs": [],
   "source": [
    "trajectory_dirs = os.listdir(HYDRA_TRAJ_DIR)\n",
    "\n",
    "scene_counter = Counter(full_name.split(\"_\")[0] for full_name in trajectory_dirs)\n",
    "scene_names = list(scene_counter)\n",
    "print(\"Found {} scenes.\".format(len(scene_names)))"
   ]
  },
  {
   "cell_type": "markdown",
   "metadata": {},
   "source": [
    "## Get mp3d room-object co-occurrences"
   ]
  },
  {
   "cell_type": "code",
   "execution_count": null,
   "metadata": {},
   "outputs": [],
   "source": [
    "progress_bar = IntProgress(value=0, min=0, max=len(scene_names), description='Progress:', bar_stlye='info')\n",
    "display(progress_bar)\n",
    "\n",
    "gt_room_object_count = np.zeros((num_room_labels, num_object_labels))\n",
    "gt_room_count = np.zeros(num_room_labels)\n",
    "for scene_name in scene_names:\n",
    "    # Load gt house segmentation for room labeling\n",
    "    gt_house_file = f\"{MP3D_HOUSE_DIR}/{scene_name}.house\"\n",
    "    gt_house_info = load_mp3d_info(gt_house_file)\n",
    "    mp3d_rooms = get_rooms_from_mp3d_info(gt_house_info, angle_deg=0.0)\n",
    "    print(\"GT segmentation file:\", gt_house_file)\n",
    "\n",
    "    for object_i in gt_house_info['O']:\n",
    "        object_category_index = object_i['category_index']\n",
    "        if object_category_index == -1:\n",
    "            continue\n",
    "\n",
    "        # object label\n",
    "        mpcat40_index = gt_house_info['C'][object_category_index]['mpcat40_index']\n",
    "        assert gt_house_info['C'][object_category_index]['category_index'] == object_category_index, \\\n",
    "            print(object_i, gt_house_info['C'][object_category_index]['category_index'], object_category_index) # sanity check\n",
    "        if mpcat40_index not in mp3d_object_label_dict.keys():\n",
    "            continue\n",
    "\n",
    "        # room label\n",
    "        object_region_index = object_i['region_index']\n",
    "        room_char = gt_house_info['R'][object_region_index]['label']\n",
    "        assert mp3d_rooms[object_region_index].semantic_label == ord(room_char) # sanity check\n",
    "\n",
    "        ro_geometry_output_str = f\"{mp3d_rooms[object_region_index].get_id()} ({gt_house_info['R'][object_region_index]['bbox_min']}, {gt_house_info['R'][object_region_index]['bbox_max']})-{room_char} ({object_i['pos']})-{mpcat40_index}\"\n",
    "        # assert mp3d_rooms[object_region_index].pos_inside_room(object_i[\"pos\"]), error_output_str\n",
    "        # assert np.all(object_i['pos'] <= gt_house_info['R'][object_region_index]['bbox_max']) and np.all(object_i['pos'] >= gt_house_info['R'][object_region_index]['bbox_min']), error_output_str\n",
    "        # assert mp3d_rooms[object_region_index].pos_on_same_floor(object_i[\"pos\"]), error_output_str\n",
    "        # assert np.sum(np.maximum(object_i[\"pos\"] - gt_house_info['R'][object_region_index]['bbox_max'], 0) + \\\n",
    "        #      np.maximum(gt_house_info['R'][object_region_index]['bbox_min'] - object_i[\"pos\"], 0)) <= 0.1:\n",
    "        if not mp3d_rooms[object_region_index].pos_on_same_floor(object_i[\"pos\"]):\n",
    "            for mp3d_room_j in mp3d_rooms:\n",
    "                if mp3d_room_j.pos_inside_room(object_i['pos']):\n",
    "                    room_char = chr(mp3d_room_j.semantic_label) # update room_char if another room contains object_i\n",
    "                    jj = mp3d_room_j.get_id().category_id\n",
    "                    print(f\"   O({mpcat40_index})-{object_label_list[mp3d_object_label_dict[mpcat40_index]]} \" \\\n",
    "                        f\"{mp3d_rooms[object_region_index].get_id()}-{chr(mp3d_rooms[object_region_index].semantic_label)}\" \\\n",
    "                        f\" -> {mp3d_room_j.get_id()}-{room_char}\")\n",
    "                    break\n",
    "\n",
    "        # update room-object co-occurences      \n",
    "        gt_room_object_count[room_label_dict[room_char],\n",
    "                             mp3d_object_label_dict[mpcat40_index]] += 1\n",
    "    \n",
    "    # update room count\n",
    "    for mp3d_room_j in mp3d_rooms:\n",
    "        room_char = chr(mp3d_room_j.semantic_label)\n",
    "        gt_room_count[room_label_dict[room_char]] += 1\n",
    "    \n",
    "    progress_bar.value += 1"
   ]
  },
  {
   "cell_type": "code",
   "execution_count": null,
   "metadata": {},
   "outputs": [],
   "source": [
    "fig = plot_room_object_heatmap(gt_room_object_count, title='MP3D ground truth room-object co-occurrences')\n",
    "fig.show()\n",
    "# fig.write_html('./output/mp3d_heatmap.html')"
   ]
  },
  {
   "cell_type": "markdown",
   "metadata": {},
   "source": [
    "## Get hydra room-object co-occurrences from longest scans of each trajectory"
   ]
  },
  {
   "cell_type": "code",
   "execution_count": null,
   "metadata": {},
   "outputs": [],
   "source": [
    "progress_bar = IntProgress(value=0, min=0, max=len(trajectory_dirs), description='Progress:', bar_stlye='info')\n",
    "display(progress_bar)\n",
    "\n",
    "hydra_room_object_count = np.zeros((num_room_labels, num_object_labels))\n",
    "hydra_room_count = np.zeros(num_room_labels)\n",
    "for trajectory_name in trajectory_dirs:\n",
    "    trajectory_path = os.path.join(HYDRA_TRAJ_DIR, trajectory_name)\n",
    "    scene_name = trajectory_name[:11]\n",
    "\n",
    "    # Load gt house segmentation for room labeling\n",
    "    gt_house_file = f\"{MP3D_HOUSE_DIR}/{scene_name}.house\"\n",
    "    gt_house_info = load_mp3d_info(gt_house_file)\n",
    "    # print(\"GT segmentation file:\", gt_house_file)\n",
    "\n",
    "    # Find the longest GT trajectories of all scenes\n",
    "    max_frame = max(int(traj_name[:-5].split(\"_\")[3]) for traj_name in os.listdir(trajectory_path))\n",
    "    max_frame_data_path = f\"{trajectory_path}/gt_partial_dsg_{max_frame}.json\"\n",
    "\n",
    "    # Load hydra scene graph\n",
    "    G = dsg.DynamicSceneGraph.load(max_frame_data_path)\n",
    "    # print(\"Number of nodes separated by layer: {} ({} total).\\n\".format([layer.num_nodes() for layer in G.layers], G.num_nodes()))\n",
    "\n",
    "    # add room bounding box and label\n",
    "    dsg.add_bounding_boxes_to_layer(G, dsg.DsgLayers.ROOMS)\n",
    "    add_gt_room_label(G, gt_house_info, angle_deg=hydra_angle_deg)\n",
    "\n",
    "    # extract room-object graph\n",
    "    G_ro = get_room_object_dsg(G)\n",
    "\n",
    "    # count hydra room-object co-occurences\n",
    "    for object in G_ro.get_layer(dsg.DsgLayers.OBJECTS).nodes:\n",
    "        room = G_ro.get_node(object.get_parent())\n",
    "        hydra_room_object_count[room_label_dict[chr(room.attributes.semantic_label)],\n",
    "                                hydra_object_label_dict[object.attributes.semantic_label]] += 1\n",
    "\n",
    "    # count hydra room occurences\n",
    "    for room in G_ro.get_layer(dsg.DsgLayers.ROOMS).nodes:\n",
    "        hydra_room_count[room_label_dict[chr(room.attributes.semantic_label)]] += 1\n",
    "    \n",
    "    progress_bar.value += 1\n"
   ]
  },
  {
   "cell_type": "code",
   "execution_count": null,
   "metadata": {},
   "outputs": [],
   "source": [
    "fig = plot_room_object_heatmap(hydra_room_object_count/5, title='Hydra room-object co-occurrences')\n",
    "fig.show()\n",
    "# fig.write_html('./output/hydra_heatmap.html')"
   ]
  },
  {
   "attachments": {},
   "cell_type": "markdown",
   "metadata": {},
   "source": [
    "## Sanity Check: hydra room-object co-occurrences with gt room resegmentation (same trajectories as above)"
   ]
  },
  {
   "cell_type": "code",
   "execution_count": null,
   "metadata": {},
   "outputs": [],
   "source": [
    "progress_bar = IntProgress(value=0, min=0, max=len(trajectory_dirs), description='Progress:', bar_stlye='info')\n",
    "display(progress_bar)\n",
    "\n",
    "hydra_reseg_room_object_count = np.zeros((num_room_labels, num_object_labels))\n",
    "hydra_reseg_room_count = np.zeros(num_room_labels)\n",
    "for trajectory_name in trajectory_dirs:\n",
    "    trajectory_path = os.path.join(HYDRA_TRAJ_DIR, trajectory_name)\n",
    "    scene_name = trajectory_name[:11]\n",
    "\n",
    "    # Load gt house segmentation for room labeling\n",
    "    gt_house_file = f\"{MP3D_HOUSE_DIR}/{scene_name}.house\"\n",
    "    gt_house_info = load_mp3d_info(gt_house_file)\n",
    "    # print(\"GT segmentation file:\", gt_house_file)\n",
    "\n",
    "    # Find the longest GT trajectories of all scenes\n",
    "    max_frame = max(int(traj_name[:-5].split(\"_\")[3]) for traj_name in os.listdir(trajectory_path))\n",
    "    max_frame_data_path = f\"{trajectory_path}/gt_partial_dsg_{max_frame}.json\"\n",
    "\n",
    "    # Load hydra scene graph\n",
    "    G = dsg.DynamicSceneGraph.load(max_frame_data_path)\n",
    "    # print(\"Number of nodes separated by layer: {} ({} total).\\n\".format([layer.num_nodes() for layer in G.layers], G.num_nodes()))\n",
    "\n",
    "    # Resegment rooms with ground-truth mp3d room geometry\n",
    "    G = repartition_rooms(G, gt_house_info)\n",
    "\n",
    "    # add room bounding box and label\n",
    "    dsg.add_bounding_boxes_to_layer(G, dsg.DsgLayers.ROOMS)\n",
    "    add_gt_room_label(G, gt_house_info, angle_deg=hydra_angle_deg)\n",
    "\n",
    "    # extract room-object graph\n",
    "    G_ro = get_room_object_dsg(G)\n",
    "\n",
    "    # count hydra room-object co-occurences\n",
    "    for object in G_ro.get_layer(dsg.DsgLayers.OBJECTS).nodes:\n",
    "        room = G_ro.get_node(object.get_parent())\n",
    "        hydra_reseg_room_object_count[room_label_dict[chr(room.attributes.semantic_label)],\n",
    "                                      hydra_object_label_dict[object.attributes.semantic_label]] += 1\n",
    "\n",
    "    # count hydra room occurences\n",
    "    for room in G_ro.get_layer(dsg.DsgLayers.ROOMS).nodes:\n",
    "        hydra_reseg_room_count[room_label_dict[chr(room.attributes.semantic_label)]] += 1\n",
    "    \n",
    "    progress_bar.value += 1"
   ]
  },
  {
   "cell_type": "code",
   "execution_count": null,
   "metadata": {},
   "outputs": [],
   "source": [
    "fig = plot_room_object_heatmap(hydra_reseg_room_object_count/5, title='Hydra resegmented room-object co-occurrences')\n",
    "fig.show()\n",
    "# fig.write_html('./output/hydraReseg_heatmap.html')"
   ]
  },
  {
   "attachments": {},
   "cell_type": "markdown",
   "metadata": {},
   "source": [
    "## Comparisons"
   ]
  },
  {
   "cell_type": "code",
   "execution_count": null,
   "metadata": {},
   "outputs": [],
   "source": [
    "# save room-object count data\n",
    "import pickle\n",
    "count_data = dict(objects=object_label_list,\n",
    "                  rooms=room_label_list,\n",
    "                  gt_room_object_count=gt_room_object_count,\n",
    "                  hydra_room_object_count=hydra_room_object_count,\n",
    "                  hydra_reseg_room_object_count=hydra_reseg_room_object_count)\n",
    "with open('count_data.pkl', 'wb') as output_file:\n",
    "    pickle.dump(count_data, output_file)\n",
    "\n",
    "# normalize across rooms for each object\n",
    "hydra_room_object_count_normalized = (hydra_room_object_count/np.linalg.norm(hydra_room_object_count, ord=1, axis=0))\n",
    "hydra_reseg_room_object_count_normalized = (hydra_reseg_room_object_count/np.linalg.norm(hydra_reseg_room_object_count, ord=1, axis=0))\n",
    "gt_room_object_count_normalized = (gt_room_object_count/np.linalg.norm(gt_room_object_count, ord=1, axis=0))"
   ]
  },
  {
   "cell_type": "code",
   "execution_count": null,
   "metadata": {},
   "outputs": [],
   "source": [
    "fig = plot_room_object_heatmap(np.abs(hydra_room_object_count_normalized - gt_room_object_count_normalized), \n",
    "  title='Normalized (over rooms) Hydra to GT co-occurrence differences')\n",
    "fig.show()\n",
    "# fig.write_html('./output/comp_hydra_mp3d_heatmap.html')"
   ]
  },
  {
   "cell_type": "code",
   "execution_count": null,
   "metadata": {},
   "outputs": [],
   "source": [
    "fig = plot_room_object_heatmap(np.abs(hydra_reseg_room_object_count_normalized - gt_room_object_count_normalized), \n",
    "  title='Normalized (over rooms) Hydra-reseg to GT co-occurrence differences')\n",
    "fig.show()\n",
    "# fig.write_html('./output/comp_hydraReseg_mp3d_heatmap.html')"
   ]
  },
  {
   "cell_type": "code",
   "execution_count": null,
   "metadata": {},
   "outputs": [],
   "source": [
    "fig = plot_object_barchart({'Hydra': np.sum(hydra_room_object_count/5, axis=0),\n",
    "                            'Hydra-reseg': np.sum(hydra_reseg_room_object_count/5, axis=0),\n",
    "                            'Mp3d-gt': np.sum(gt_room_object_count, axis=0)}, \n",
    "                           title='Number of object occurrences')\n",
    "fig.show()\n",
    "# fig.write_html('./output/objects_barchart.html')"
   ]
  },
  {
   "cell_type": "code",
   "execution_count": null,
   "metadata": {},
   "outputs": [],
   "source": [
    "fig = plot_object_barchart({'Hydra / Mp3d-gt': np.sum(hydra_room_object_count/5, axis=0) / np.sum(gt_room_object_count, axis=0),\n",
    "                            'Hydra-reseg / Mp3d-gt': np.sum(hydra_reseg_room_object_count/5, axis=0) / np.sum(gt_room_object_count, axis=0)}, \n",
    "                           title='Hydra / GT object occurrences')\n",
    "fig.show()\n",
    "# fig.write_html('./output/comp_objects_barchart.html')"
   ]
  },
  {
   "cell_type": "code",
   "execution_count": null,
   "metadata": {},
   "outputs": [],
   "source": [
    "# compare room occurences\n",
    "fig = plot_room_barchart({'Hydra': hydra_room_count/5,\n",
    "                          'Hydra-reseg': hydra_reseg_room_count/5,\n",
    "                          'Mp3d-gt': gt_room_count},\n",
    "                         title='Number of room occurrences')\n",
    "fig.show()\n",
    "# fig.write_html('./output/rooms_barchart.html')"
   ]
  },
  {
   "cell_type": "code",
   "execution_count": null,
   "metadata": {},
   "outputs": [],
   "source": [
    "fig = plot_room_barchart({'Hydra / Mp3d-gt': (hydra_room_count/5) / gt_room_count,\n",
    "                          'Hydra-reseg / Mp3d-gt': (hydra_reseg_room_count/5) / gt_room_count}, \n",
    "                         title='Hydra / GT room occurrences')\n",
    "fig.show()\n",
    "# fig.write_html('./output/comp_rooms_barchart.html')"
   ]
  },
  {
   "cell_type": "code",
   "execution_count": null,
   "metadata": {},
   "outputs": [],
   "source": [
    "# compare number of objects by room type\n",
    "fig = plot_room_barchart({'Hydra': np.sum(hydra_room_object_count/5, axis=1),\n",
    "                          'Hydra-reseg': np.sum(hydra_reseg_room_object_count/5, axis=1),\n",
    "                          'Mp3d-gt': np.sum(gt_room_object_count, axis=1)},\n",
    "                         title='Number of objects by room type')\n",
    "fig.show()\n",
    "# fig.write_html('./output/num_objects_by_room_barchart.html')"
   ]
  }
 ],
 "metadata": {
  "kernelspec": {
   "display_name": "Python 3.7.5 ('venv_hydra_gnn': venv)",
   "language": "python",
   "name": "python3"
  },
  "language_info": {
   "codemirror_mode": {
    "name": "ipython",
    "version": 3
   },
   "file_extension": ".py",
   "mimetype": "text/x-python",
   "name": "python",
   "nbconvert_exporter": "python",
   "pygments_lexer": "ipython3",
   "version": "3.7.5"
  },
  "vscode": {
   "interpreter": {
    "hash": "967e0c2ffd26b9faa12181abf2fe57108176e775fc50d31e459720dbf04edf24"
   }
  }
 },
 "nbformat": 4,
 "nbformat_minor": 2
}
