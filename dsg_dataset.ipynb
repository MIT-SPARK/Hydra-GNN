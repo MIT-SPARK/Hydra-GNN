{
 "cells": [
  {
   "cell_type": "code",
   "execution_count": null,
   "metadata": {},
   "outputs": [],
   "source": [
    "from collections import Counter\n",
    "import os\n",
    "import numpy as np\n",
    "import torch\n",
    "import torch_geometric\n",
    "import spark_dsg as dsg"
   ]
  },
  {
   "cell_type": "markdown",
   "metadata": {},
   "source": [
    "## Load dataset file"
   ]
  },
  {
   "cell_type": "code",
   "execution_count": null,
   "metadata": {},
   "outputs": [],
   "source": [
    "# dataset file path\n",
    "hydra_dataset_dir = \"/mnt/sdb/dataset/tmp/tro_graphs_2022_09_24\"\n",
    "trajectory_dirs = os.listdir(hydra_dataset_dir)"
   ]
  },
  {
   "cell_type": "code",
   "execution_count": null,
   "metadata": {},
   "outputs": [],
   "source": [
    "scene_counter = Counter(full_name.split(\"_\")[0] for full_name in trajectory_dirs)\n",
    "scene_names = list(scene_counter)\n",
    "print(\"Found {} scenes.\".format(len(scene_names)))\n",
    "print(\"Number of samples for each scene:\\n\", dict(scene_counter))"
   ]
  },
  {
   "cell_type": "code",
   "execution_count": null,
   "metadata": {},
   "outputs": [],
   "source": [
    "# Pick a random scene graph file\n",
    "test_scene = scene_names[0]\n",
    "test_num_frames = 600\n",
    "\n",
    "test_json_file = f\"{hydra_dataset_dir}/{test_scene}_trajectory_0/gt_partial_dsg_{test_num_frames}.json\"\n",
    "assert os.path.exists(test_json_file)\n",
    "print(test_json_file)"
   ]
  },
  {
   "cell_type": "code",
   "execution_count": null,
   "metadata": {},
   "outputs": [],
   "source": [
    "# Load scene graph\n",
    "G = dsg.DynamicSceneGraph.load(test_json_file)\n",
    "assert G.num_nodes() > 0\n",
    "assert G.num_edges() > 0\n",
    "\n",
    "# access nodes in each layer\n",
    "print(\"Number of nodes separated by layer: {} ({} total).\".format([layer.num_nodes() for layer in G.layers], G.num_nodes()))"
   ]
  },
  {
   "cell_type": "code",
   "execution_count": null,
   "metadata": {},
   "outputs": [],
   "source": [
    "# Access node attributes at specified layer\n",
    "# (room nodes example)\n",
    "print(\"Raw room attributes.\")\n",
    "print([node.attributes for node in G.get_layer(dsg.DsgLayers.ROOMS).nodes])"
   ]
  },
  {
   "cell_type": "code",
   "execution_count": null,
   "metadata": {},
   "outputs": [],
   "source": [
    "# Visualize scene graph with open3d (if installed)\n",
    "dsg.render_to_open3d(G)"
   ]
  },
  {
   "cell_type": "markdown",
   "metadata": {},
   "source": [
    "## Helpful function - add room bounding box from children places nodes"
   ]
  },
  {
   "cell_type": "code",
   "execution_count": null,
   "metadata": {},
   "outputs": [],
   "source": [
    "# This room bounding box is the the smallest axis-aligned box containing all children places nodes\n",
    "dsg.add_bounding_boxes_to_layer(G, dsg.DsgLayers.ROOMS)\n",
    "print(\"Updated room attributes (check bounding box).\")\n",
    "print([node.attributes for node in G.get_layer(dsg.DsgLayers.ROOMS).nodes])"
   ]
  },
  {
   "cell_type": "markdown",
   "metadata": {},
   "source": [
    "## Helpful function - replace hydra room segmentation with ground truth mp3d segmentation"
   ]
  },
  {
   "cell_type": "code",
   "execution_count": null,
   "metadata": {},
   "outputs": [],
   "source": [
    "from hydra_gnn.mp3d import load_mp3d_info, repartition_rooms\n",
    "\n",
    "# mp3d dataset directory\n",
    "mp3d_dataset_dir = \"/mnt/sdb/dataset/Matterport3D/v1/scans\"\n",
    "gt_house_file = f\"{mp3d_dataset_dir}/{test_scene}/house_segmentations/{test_scene}.house\"\n",
    "assert os.path.exists(gt_house_file)\n",
    "print(gt_house_file)"
   ]
  },
  {
   "cell_type": "code",
   "execution_count": null,
   "metadata": {},
   "outputs": [],
   "source": [
    "# Load ground truth house segmentation file, generate a DynamicSceneGraph with ground truth room segementation,\n",
    "# and connect places node to the new room nodes.\n",
    "gt_house_info = load_mp3d_info(gt_house_file)\n",
    "G_update = repartition_rooms(G, gt_house_info)"
   ]
  },
  {
   "cell_type": "markdown",
   "metadata": {},
   "source": [
    "## Helpful function - convert DynamicSceneGraph to pytorch geometric graph"
   ]
  },
  {
   "cell_type": "code",
   "execution_count": null,
   "metadata": {},
   "outputs": [],
   "source": [
    "from spark_dsg.torch_conversion import _centroid_bbx_embedding\n",
    "\n",
    "# Homogeneous graph\n",
    "data_homogeneous = G.to_torch(_centroid_bbx_embedding, use_heterogeneous=False)\n",
    "print(\"Homogenous torch graph:\")\n",
    "print(data_homogeneous)\n",
    "\n",
    "# Heterogeneous graph\n",
    "data_heterogeneous = G.to_torch(_centroid_bbx_embedding, use_heterogeneous=True)\n",
    "print(\"\\nHeterogeneous torch graph:\")\n",
    "print(data_heterogeneous)\n",
    "print('node types:', data_heterogeneous.node_types)\n",
    "print('edge types:', data_heterogeneous.edge_types)"
   ]
  }
 ],
 "metadata": {
  "kernelspec": {
   "display_name": "hydra-gnn",
   "language": "python",
   "name": "hydra-gnn"
  },
  "language_info": {
   "codemirror_mode": {
    "name": "ipython",
    "version": 3
   },
   "file_extension": ".py",
   "mimetype": "text/x-python",
   "name": "python",
   "nbconvert_exporter": "python",
   "pygments_lexer": "ipython3",
   "version": "3.7.5"
  }
 },
 "nbformat": 4,
 "nbformat_minor": 2
}
