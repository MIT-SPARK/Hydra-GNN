{
 "cells": [
  {
   "cell_type": "code",
   "execution_count": null,
   "metadata": {},
   "outputs": [],
   "source": [
    "import os\n",
    "import numpy as np\n",
    "import spark_dsg as dsg\n",
    "from spark_dsg.mp3d import load_mp3d_info, repartition_rooms, add_gt_room_label\n",
    "from hydra_gnn.utils import plot_heterogeneous_graph\n",
    "from hydra_gnn.preprocess_dsgs import convert_label_to_y, add_object_connectivity, get_room_object_dsg"
   ]
  },
  {
   "cell_type": "code",
   "execution_count": null,
   "metadata": {},
   "outputs": [],
   "source": [
    "# dataset file paths\n",
    "hydra_dataset_dir = \"./data/tro_graphs_2022_09_24\"\n",
    "mp3d_housefile_dir = \"./data/house_files\"\n",
    "colormap_data_path = \"./data/colormap.csv\"\n",
    "mp3d_label_data_path = \"./data/mpcat40.tsv\"\n",
    "word2vec_model_path = \"./data/GoogleNews-vectors-negative300.bin\""
   ]
  },
  {
   "attachments": {},
   "cell_type": "markdown",
   "metadata": {},
   "source": [
    "## Load DSG"
   ]
  },
  {
   "cell_type": "code",
   "execution_count": null,
   "metadata": {},
   "outputs": [],
   "source": [
    "# test dataset file paths\n",
    "# sparse room\n",
    "test_json_file = \"./data/tro_graphs_2022_09_24/2t7WUuJeko7_trajectory_0/gt_partial_dsg_1330.json\"\n",
    "gt_house_file = \"./data/house_files/2t7WUuJeko7.house\"\n",
    "\n",
    "# # single room\n",
    "# # test_json_file = \"./data/tro_graphs_2022_09_24/YVUC4YcDtcY_trajectory_0/gt_partial_dsg_1000.json\"\n",
    "# # gt_house_file = \"./data/house_files/YVUC4YcDtcY.house\"\n",
    "\n",
    "assert os.path.exists(test_json_file)\n",
    "assert os.path.exists(gt_house_file)"
   ]
  },
  {
   "cell_type": "code",
   "execution_count": null,
   "metadata": {},
   "outputs": [],
   "source": [
    "# Load hydra scene graph\n",
    "G = dsg.DynamicSceneGraph.load(test_json_file)\n",
    "print(\"Number of nodes separated by layer: {} ({} total).\".format([layer.num_nodes() for layer in G.layers], G.num_nodes()))\n",
    "gt_house_info = load_mp3d_info(gt_house_file)\n",
    "# dsg.render_to_open3d(G)"
   ]
  },
  {
   "cell_type": "code",
   "execution_count": null,
   "metadata": {},
   "outputs": [],
   "source": [
    "data = G.to_torch(use_heterogeneous=True)\n",
    "fig = plot_heterogeneous_graph(data)\n",
    "fig.update_layout(\n",
    "    scene = dict(\n",
    "        xaxis = dict(visible=False),\n",
    "        yaxis = dict(visible=False),\n",
    "        zaxis =dict(visible=False)\n",
    "        )\n",
    "    )\n",
    "    \n",
    "fig.show()"
   ]
  },
  {
   "cell_type": "code",
   "execution_count": null,
   "metadata": {},
   "outputs": [],
   "source": [
    "G_rep0 = repartition_rooms(G, gt_house_info, min_iou_threshold=0.0, verbose=True)\n",
    "data0 = G_rep0.to_torch(use_heterogeneous=True)\n",
    "fig = plot_heterogeneous_graph(data0)\n",
    "fig.update_layout(\n",
    "    scene = dict(\n",
    "        xaxis = dict(visible=False),\n",
    "        yaxis = dict(visible=False),\n",
    "        zaxis =dict(visible=False)\n",
    "        )\n",
    "    )\n",
    "    \n",
    "fig.show()"
   ]
  },
  {
   "cell_type": "code",
   "execution_count": null,
   "metadata": {},
   "outputs": [],
   "source": [
    "G_rep50 = repartition_rooms(G, gt_house_info, min_iou_threshold=0.5, verbose=True)\n",
    "data50 = G_rep50.to_torch(use_heterogeneous=True)\n",
    "fig = plot_heterogeneous_graph(data50)\n",
    "fig.update_layout(\n",
    "    scene = dict(\n",
    "        xaxis = dict(visible=False),\n",
    "        yaxis = dict(visible=False),\n",
    "        zaxis =dict(visible=False)\n",
    "        )\n",
    "    )\n",
    "    \n",
    "fig.show()"
   ]
  },
  {
   "attachments": {},
   "cell_type": "markdown",
   "metadata": {},
   "source": [
    "## Add room label from GT"
   ]
  },
  {
   "cell_type": "code",
   "execution_count": null,
   "metadata": {},
   "outputs": [],
   "source": [
    "# room labels are based on maximum IoU between hydra room bbox and mp3d room segmentation\n",
    "dsg.add_bounding_boxes_to_layer(G, dsg.DsgLayers.ROOMS)\n",
    "add_gt_room_label(G, gt_house_info, angle_deg=-90)"
   ]
  },
  {
   "attachments": {},
   "cell_type": "markdown",
   "metadata": {},
   "source": [
    "## Get room-object graph and convert to torch_data"
   ]
  },
  {
   "cell_type": "code",
   "execution_count": null,
   "metadata": {},
   "outputs": [],
   "source": [
    "import gensim\n",
    "import pandas as pd\n",
    "from hydra_gnn.preprocess_dsgs import hydra_object_feature_converter, dsg_node_converter"
   ]
  },
  {
   "cell_type": "code",
   "execution_count": null,
   "metadata": {},
   "outputs": [],
   "source": [
    "# extract room-object dsg and add object connectivity\n",
    "G_ro = get_room_object_dsg(G, verbose=False)\n",
    "add_object_connectivity(G_ro, threshold_near=2.0, max_on=0.2, max_near=2.0)"
   ]
  },
  {
   "cell_type": "code",
   "execution_count": null,
   "metadata": {},
   "outputs": [],
   "source": [
    "# remove isolated room nodes\n",
    "room_removal_func = lambda room: not (room.has_children() or room.has_siblings())\n",
    "\n",
    "for room in G_ro.get_layer(dsg.DsgLayers.ROOMS).nodes:\n",
    "    if room_removal_func(room):\n",
    "        room.attributes.semantic_label = ord('\\x15')"
   ]
  },
  {
   "cell_type": "code",
   "execution_count": null,
   "metadata": {},
   "outputs": [],
   "source": [
    "colormap_data = pd.read_csv(colormap_data_path, delimiter=',')\n",
    "word2vec_model = gensim.models.KeyedVectors.load_word2vec_format(word2vec_model_path, binary=True)"
   ]
  },
  {
   "cell_type": "code",
   "execution_count": null,
   "metadata": {},
   "outputs": [],
   "source": [
    "# data conversion\n",
    "data_heterogeneous = G_ro.to_torch(use_heterogeneous=True, \n",
    "                                   node_converter=dsg_node_converter(\n",
    "                                    object_feature_converter=hydra_object_feature_converter(colormap_data, word2vec_model),\n",
    "                                    room_feature_converter=lambda i: np.empty(0)))\n",
    "# data_homogeneous = G_ro.to_torch(use_heterogeneous=False, \n",
    "#                                  node_converter=dsg_node_converter(\n",
    "#                                   object_feature_converter=hydra_object_feature_converter(colormap_data, word2vec_model),\n",
    "#                                   room_feature_converter=lambda i: np.empty(300)))"
   ]
  },
  {
   "cell_type": "code",
   "execution_count": null,
   "metadata": {},
   "outputs": [],
   "source": [
    "# get label index data_*.y from hydra node labels\n",
    "synonym_objects = []\n",
    "synonym_rooms = [('a', 't'), ('z', 'Z', 'x', 'p', '\\x15')] \n",
    "\n",
    "object_label_dict, room_label_dict = convert_label_to_y(data_heterogeneous, object_synonyms=synonym_objects, room_synonyms=synonym_rooms)\n",
    "# object_label_dict, room_label_dict = convert_label_to_y(data_homogeneous, object_synonyms=synonym_objects, room_synonyms=synonym_rooms)\n",
    "\n",
    "print(object_label_dict)\n",
    "print(room_label_dict)"
   ]
  },
  {
   "cell_type": "code",
   "execution_count": null,
   "metadata": {},
   "outputs": [],
   "source": [
    "fig = plot_heterogeneous_graph(data_heterogeneous)\n",
    "fig.show()"
   ]
  },
  {
   "cell_type": "code",
   "execution_count": null,
   "metadata": {},
   "outputs": [],
   "source": [
    "data_heterogeneous['rooms'].y"
   ]
  },
  {
   "attachments": {},
   "cell_type": "markdown",
   "metadata": {},
   "source": [
    "## Debug"
   ]
  },
  {
   "cell_type": "code",
   "execution_count": null,
   "metadata": {},
   "outputs": [],
   "source": [
    "# hydra labels\n",
    "labels = [data_heterogeneous[node_type].label for node_type in data_heterogeneous.node_types]\n",
    "print('object mp3d labels:', labels[0].tolist())\n",
    "print('room mp3d labels:', [chr(l) for l in labels[1].tolist()])"
   ]
  },
  {
   "cell_type": "code",
   "execution_count": null,
   "metadata": {},
   "outputs": [],
   "source": [
    "# training labels\n",
    "print(data_heterogeneous['objects'].y)\n",
    "print(data_heterogeneous['rooms'].y)"
   ]
  },
  {
   "cell_type": "code",
   "execution_count": null,
   "metadata": {},
   "outputs": [],
   "source": [
    "data_heterogeneous['rooms', 'rooms_to_objects', 'objects'].edge_index"
   ]
  }
 ],
 "metadata": {
  "kernelspec": {
   "display_name": "hydra-gnn",
   "language": "python",
   "name": "hydra-gnn"
  },
  "language_info": {
   "codemirror_mode": {
    "name": "ipython",
    "version": 3
   },
   "file_extension": ".py",
   "mimetype": "text/x-python",
   "name": "python",
   "nbconvert_exporter": "python",
   "pygments_lexer": "ipython3",
   "version": "3.7.5"
  }
 },
 "nbformat": 4,
 "nbformat_minor": 2
}
