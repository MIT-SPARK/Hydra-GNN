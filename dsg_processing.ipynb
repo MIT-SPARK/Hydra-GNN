{
 "cells": [
  {
   "cell_type": "code",
   "execution_count": 1,
   "metadata": {},
   "outputs": [
    {
     "name": "stdout",
     "output_type": "stream",
     "text": [
      "Jupyter environment detected. Enabling Open3D WebVisualizer.\n",
      "[Open3D INFO] WebRTC GUI backend enabled.\n",
      "[Open3D INFO] WebRTCWindowSystem: HTTP handshake server disabled.\n"
     ]
    }
   ],
   "source": [
    "from collections import Counter\n",
    "import os\n",
    "import numpy as np\n",
    "import torch\n",
    "import torch_geometric\n",
    "import spark_dsg as dsg\n",
    "from hydra_gnn.mp3d import load_mp3d_info, repartition_rooms"
   ]
  },
  {
   "cell_type": "code",
   "execution_count": 2,
   "metadata": {},
   "outputs": [],
   "source": [
    "# test dataset file paths\n",
    "test_json_file = \"./test_data/x8F5xyUWy9e_0_gt_partial_dsg_600.json\"\n",
    "gt_house_file = \"./test_data/x8F5xyUWy9e.house\""
   ]
  },
  {
   "cell_type": "code",
   "execution_count": 3,
   "metadata": {},
   "outputs": [
    {
     "name": "stdout",
     "output_type": "stream",
     "text": [
      "Number of nodes separated by layer: [38, 231, 3, 1] (873 total).\n"
     ]
    }
   ],
   "source": [
    "# Load hydra scene graph\n",
    "G = dsg.DynamicSceneGraph.load(test_json_file)\n",
    "print(\"Number of nodes separated by layer: {} ({} total).\".format([layer.num_nodes() for layer in G.layers], G.num_nodes()))"
   ]
  },
  {
   "cell_type": "code",
   "execution_count": 4,
   "metadata": {},
   "outputs": [
    {
     "name": "stdout",
     "output_type": "stream",
     "text": [
      "Number of nodes separated by layer: [38, 231, 1, 1] (871 total).\n"
     ]
    }
   ],
   "source": [
    "gt_house_info = load_mp3d_info(gt_house_file)\n",
    "G_update = repartition_rooms(G, gt_house_info)\n",
    "print(\"Number of nodes separated by layer: {} ({} total).\".format([layer.num_nodes() for layer in G_update.layers], G_update.num_nodes()))"
   ]
  },
  {
   "cell_type": "code",
   "execution_count": 6,
   "metadata": {},
   "outputs": [
    {
     "name": "stdout",
     "output_type": "stream",
     "text": [
      "[R(0)]\n"
     ]
    }
   ],
   "source": [
    "print([node.id for node in G_update.get_layer(dsg.DsgLayers.ROOMS).nodes])"
   ]
  },
  {
   "cell_type": "code",
   "execution_count": 5,
   "metadata": {},
   "outputs": [],
   "source": [
    "dsg.render_to_open3d(G_update)"
   ]
  }
 ],
 "metadata": {
  "kernelspec": {
   "display_name": "hydra-gnn",
   "language": "python",
   "name": "hydra-gnn"
  },
  "language_info": {
   "codemirror_mode": {
    "name": "ipython",
    "version": 3
   },
   "file_extension": ".py",
   "mimetype": "text/x-python",
   "name": "python",
   "nbconvert_exporter": "python",
   "pygments_lexer": "ipython3",
   "version": "3.7.5"
  }
 },
 "nbformat": 4,
 "nbformat_minor": 2
}
