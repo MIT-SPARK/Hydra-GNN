{
 "cells": [
  {
   "cell_type": "code",
   "execution_count": 12,
   "metadata": {},
   "outputs": [],
   "source": [
    "from hydra_gnn.utils import PROJECT_DIR, MP3D_BENCHMARK_DIR, HYDRA_TRAJ_DIR\n",
    "from hydra_gnn.mp3d_utils import generate_mp3d_split, read_mp3d_split\n",
    "from hydra_gnn.mp3d_dataset import Hydra_mp3d_dataset\n",
    "from hydra_gnn.base_training_job import BaseTrainingJob\n",
    "import random\n",
    "import os\n",
    "import shutil\n",
    "import argparse\n",
    "import pickle\n",
    "import yaml\n",
    "import pandas as pd"
   ]
  },
  {
   "cell_type": "code",
   "execution_count": 3,
   "metadata": {},
   "outputs": [
    {
     "data": {
      "text/plain": [
       "True"
      ]
     },
     "execution_count": 3,
     "metadata": {},
     "output_type": "execute_result"
    }
   ],
   "source": [
    "import torch\n",
    "torch.cuda.is_available()"
   ]
  },
  {
   "cell_type": "code",
   "execution_count": 15,
   "metadata": {},
   "outputs": [],
   "source": [
    "# Parameters\n",
    "config = dict()\n",
    "config['data'] = {\n",
    "    'file_path':\"output/preprocessed_mp3d/data_test.pkl\",\n",
    "    'type': 'heterogeneous'\n",
    "}\n",
    "config['run_control'] = {\n",
    "    'num_runs': 5,\n",
    "    'early_stop_window': 300\n",
    "}\n",
    "config['network'] = {\n",
    "    'conv_block': 'GAT_edge',\n",
    "    'dropout': 0.25,\n",
    "    'GAT_hidden_dims': [4],\n",
    "    'GAT_heads': [4, 4],\n",
    "    'GAT_concats': [True, False]\n",
    "}\n",
    "config['optimization'] = {\n",
    "    'lr': 0.001,\n",
    "    'num_epochs': 1000,\n",
    "    'weight_decay': 0.0,\n",
    "    'batch_size': 1024\n",
    "}\n",
    "config['logger'] = {\n",
    "    'output_dir': \"output/log_test\"\n",
    "}"
   ]
  },
  {
   "cell_type": "code",
   "execution_count": 7,
   "metadata": {},
   "outputs": [
    {
     "name": "stdout",
     "output_type": "stream",
     "text": [
      "neural_tree\n",
      "/home/gridsan/siyi/research_code/Hydra-GNN/output/preprocessed_mp3d/data_test.pkl\n"
     ]
    }
   ],
   "source": [
    "dataset_path = os.path.join(PROJECT_DIR, config['data']['file_path'])\n",
    "output_dir = os.path.join(PROJECT_DIR, config['logger']['output_dir'])\n",
    "num_runs = config['run_control']['num_runs']\n",
    "network_type = config['data']['type']\n",
    "early_stop_window = config['run_control']['early_stop_window']\n",
    "network_params = config['network']\n",
    "optimization_params = config['optimization']\n",
    "\n",
    "print(network_type)\n",
    "print(dataset_path)"
   ]
  },
  {
   "cell_type": "markdown",
   "metadata": {},
   "source": [
    "## Load dataset"
   ]
  },
  {
   "cell_type": "code",
   "execution_count": 9,
   "metadata": {},
   "outputs": [
    {
     "name": "stdout",
     "output_type": "stream",
     "text": [
      "  training: 61 scenes 4176 graphs\n",
      "  validation: 11 scenes 731 graphs\n",
      "  test: 18 scenes 1207 graphs\n"
     ]
    }
   ],
   "source": [
    "split_dict = read_mp3d_split(MP3D_BENCHMARK_DIR)\n",
    "dataset_dict = {'train': Hydra_mp3d_dataset('train'),\n",
    "                'val': Hydra_mp3d_dataset('val'),\n",
    "                'test': Hydra_mp3d_dataset('test')}\n",
    "\n",
    "with open(dataset_path, 'rb') as input_file:\n",
    "    data_list = pickle.load(input_file)\n",
    "if network_type == 'homogeneous':\n",
    "    [data.to_homoegeneous() for data in data_list]\n",
    "if config['network']['conv_block'] == 'GAT_edge':\n",
    "    [data.compute_relative_pos() for data in data_list]\n",
    "\n",
    "for data in data_list:\n",
    "    if data.get_data_info()['scene_id'] in split_dict['scenes_train']:\n",
    "        dataset_dict['train'].add_data(data)\n",
    "    elif data.get_data_info()['scene_id'] in split_dict['scenes_val']:\n",
    "        dataset_dict['val'].add_data(data)\n",
    "    elif data.get_data_info()['scene_id'] in split_dict['scenes_test']:\n",
    "        dataset_dict['test'].add_data(data)\n",
    "    else:\n",
    "        raise RuntimeError(f\"Founnd invalid scene id in input data file {dataset_path}.\")\n",
    "print(f\"  training: {dataset_dict['train'].num_scenes()} scenes {len(dataset_dict['train'])} graphs\\n\"\n",
    "      f\"  validation: {dataset_dict['val'].num_scenes()} scenes {len(dataset_dict['val'])} graphs\\n\"\n",
    "      f\"  test: {dataset_dict['test'].num_scenes()} scenes {len(dataset_dict['test'])} graphs\")"
   ]
  },
  {
   "cell_type": "markdown",
   "metadata": {},
   "source": [
    "## Run experiment"
   ]
  },
  {
   "cell_type": "code",
   "execution_count": 17,
   "metadata": {},
   "outputs": [
    {
     "name": "stdout",
     "output_type": "stream",
     "text": [
      "output direcotry: /home/gridsan/siyi/research_code/Hydra-GNN/output/log_test\n",
      "Epoch 009. Loss: 2.6551. Train accuracy: 0.2519. Validation accuracy: 0.1835.\n",
      "Epoch 019. Loss: 2.3270. Train accuracy: 0.3340. Validation accuracy: 0.2651.\n",
      "Epoch 029. Loss: 2.0135. Train accuracy: 0.4393. Validation accuracy: 0.3307.\n",
      "Epoch 039. Loss: 1.8201. Train accuracy: 0.4982. Validation accuracy: 0.3463.\n",
      "Epoch 049. Loss: 1.6870. Train accuracy: 0.5400. Validation accuracy: 0.3765.\n",
      "Epoch 059. Loss: 1.6090. Train accuracy: 0.5567. Validation accuracy: 0.3849.\n",
      "Epoch 069. Loss: 1.5536. Train accuracy: 0.5752. Validation accuracy: 0.3816.\n",
      "Epoch 079. Loss: 1.5086. Train accuracy: 0.5834. Validation accuracy: 0.3802.\n",
      "Epoch 089. Loss: 1.4794. Train accuracy: 0.5974. Validation accuracy: 0.3758.\n",
      "Epoch 099. Loss: 1.4417. Train accuracy: 0.5974. Validation accuracy: 0.3791.\n",
      "Epoch 109. Loss: 1.4033. Train accuracy: 0.6108. Validation accuracy: 0.3733.\n",
      "Epoch 119. Loss: 1.3902. Train accuracy: 0.6202. Validation accuracy: 0.3798.\n",
      "Epoch 129. Loss: 1.3615. Train accuracy: 0.6293. Validation accuracy: 0.3816.\n",
      "Epoch 139. Loss: 1.3411. Train accuracy: 0.6376. Validation accuracy: 0.3806.\n",
      "Epoch 149. Loss: 1.3216. Train accuracy: 0.6455. Validation accuracy: 0.3948.\n",
      "Epoch 159. Loss: 1.3087. Train accuracy: 0.6545. Validation accuracy: 0.3933.\n",
      "Epoch 169. Loss: 1.2986. Train accuracy: 0.6589. Validation accuracy: 0.3897.\n",
      "Epoch 179. Loss: 1.2770. Train accuracy: 0.6582. Validation accuracy: 0.3904.\n",
      "Epoch 189. Loss: 1.2687. Train accuracy: 0.6600. Validation accuracy: 0.3926.\n",
      "Epoch 199. Loss: 1.2585. Train accuracy: 0.6677. Validation accuracy: 0.4006.\n",
      "Epoch 209. Loss: 1.2509. Train accuracy: 0.6695. Validation accuracy: 0.3908.\n",
      "Epoch 219. Loss: 1.2297. Train accuracy: 0.6800. Validation accuracy: 0.3857.\n",
      "Epoch 229. Loss: 1.2189. Train accuracy: 0.6844. Validation accuracy: 0.3915.\n",
      "Epoch 239. Loss: 1.2188. Train accuracy: 0.6842. Validation accuracy: 0.3973.\n",
      "Epoch 249. Loss: 1.1928. Train accuracy: 0.6886. Validation accuracy: 0.3940.\n",
      "Epoch 259. Loss: 1.1961. Train accuracy: 0.6961. Validation accuracy: 0.3904.\n",
      "Epoch 269. Loss: 1.1843. Train accuracy: 0.6916. Validation accuracy: 0.3904.\n",
      "Epoch 279. Loss: 1.1776. Train accuracy: 0.7001. Validation accuracy: 0.3889.\n",
      "Epoch 289. Loss: 1.1698. Train accuracy: 0.7054. Validation accuracy: 0.3918.\n",
      "Epoch 299. Loss: 1.1581. Train accuracy: 0.7039. Validation accuracy: 0.3853.\n",
      "Epoch 309. Loss: 1.1476. Train accuracy: 0.7064. Validation accuracy: 0.3751.\n",
      "Epoch 319. Loss: 1.1426. Train accuracy: 0.7071. Validation accuracy: 0.3864.\n",
      "Epoch 329. Loss: 1.1392. Train accuracy: 0.7119. Validation accuracy: 0.3816.\n",
      "Epoch 339. Loss: 1.1349. Train accuracy: 0.7122. Validation accuracy: 0.3827.\n",
      "Epoch 349. Loss: 1.1261. Train accuracy: 0.7113. Validation accuracy: 0.3806.\n",
      "Epoch 359. Loss: 1.1226. Train accuracy: 0.7176. Validation accuracy: 0.3864.\n",
      "Epoch 369. Loss: 1.1118. Train accuracy: 0.7186. Validation accuracy: 0.3864.\n",
      "Epoch 379. Loss: 1.1186. Train accuracy: 0.7280. Validation accuracy: 0.3853.\n",
      "Epoch 389. Loss: 1.1015. Train accuracy: 0.7312. Validation accuracy: 0.3857.\n",
      "Epoch 399. Loss: 1.1091. Train accuracy: 0.7284. Validation accuracy: 0.3758.\n",
      "Epoch 409. Loss: 1.0996. Train accuracy: 0.7320. Validation accuracy: 0.3806.\n",
      "Epoch 419. Loss: 1.0927. Train accuracy: 0.7345. Validation accuracy: 0.3831.\n",
      "Epoch 429. Loss: 1.0813. Train accuracy: 0.7363. Validation accuracy: 0.3831.\n",
      "Epoch 439. Loss: 1.0923. Train accuracy: 0.7396. Validation accuracy: 0.3700.\n",
      "Epoch 449. Loss: 1.0772. Train accuracy: 0.7429. Validation accuracy: 0.3846.\n",
      "Epoch 459. Loss: 1.0784. Train accuracy: 0.7435. Validation accuracy: 0.3776.\n",
      "Epoch 469. Loss: 1.0712. Train accuracy: 0.7436. Validation accuracy: 0.3755.\n",
      "Epoch 479. Loss: 1.0747. Train accuracy: 0.7451. Validation accuracy: 0.3813.\n",
      "Epoch 489. Loss: 1.0707. Train accuracy: 0.7477. Validation accuracy: 0.3842.\n",
      "Epoch 499. Loss: 1.0686. Train accuracy: 0.7517. Validation accuracy: 0.3813.\n",
      "Epoch 509. Loss: 1.0595. Train accuracy: 0.7518. Validation accuracy: 0.3762.\n",
      "Epoch 519. Loss: 1.0518. Train accuracy: 0.7536. Validation accuracy: 0.3795.\n",
      "Epoch 529. Loss: 1.0626. Train accuracy: 0.7513. Validation accuracy: 0.3795.\n",
      "Epoch 539. Loss: 1.0516. Train accuracy: 0.7525. Validation accuracy: 0.3798.\n",
      "Epoch 549. Loss: 1.0520. Train accuracy: 0.7580. Validation accuracy: 0.3784.\n",
      "Epoch 559. Loss: 1.0453. Train accuracy: 0.7528. Validation accuracy: 0.3736.\n",
      "Epoch 569. Loss: 1.0473. Train accuracy: 0.7550. Validation accuracy: 0.3871.\n",
      "Epoch 579. Loss: 1.0456. Train accuracy: 0.7578. Validation accuracy: 0.3806.\n",
      "Epoch 589. Loss: 1.0547. Train accuracy: 0.7575. Validation accuracy: 0.3849.\n",
      "Early stopping condition reached at 593 epoch.\n",
      "Training completed (time elapsed: 1101.7025 s). \n",
      "Testing completed (time elapsed: 0.2523 s). \n",
      "Best validation accuracy: 0.4017, corresponding test accuracy: 0.5187.\n"
     ]
    },
    {
     "ename": "ValueError",
     "evalue": "not enough values to unpack (expected 3, got 2)",
     "output_type": "error",
     "traceback": [
      "\u001b[0;31m---------------------------------------------------------------------------\u001b[0m",
      "\u001b[0;31mValueError\u001b[0m                                Traceback (most recent call last)",
      "Cell \u001b[0;32mIn[17], line 17\u001b[0m\n\u001b[1;32m     13\u001b[0m \u001b[38;5;28;01mfor\u001b[39;00m j \u001b[38;5;129;01min\u001b[39;00m \u001b[38;5;28mrange\u001b[39m(config[\u001b[38;5;124m'\u001b[39m\u001b[38;5;124mrun_control\u001b[39m\u001b[38;5;124m'\u001b[39m][\u001b[38;5;124m'\u001b[39m\u001b[38;5;124mnum_runs\u001b[39m\u001b[38;5;124m'\u001b[39m]):\n\u001b[1;32m     14\u001b[0m     train_job \u001b[38;5;241m=\u001b[39m BaseTrainingJob(network_type\u001b[38;5;241m=\u001b[39mconfig[\u001b[38;5;124m'\u001b[39m\u001b[38;5;124mdata\u001b[39m\u001b[38;5;124m'\u001b[39m][\u001b[38;5;124m'\u001b[39m\u001b[38;5;124mtype\u001b[39m\u001b[38;5;124m'\u001b[39m],\n\u001b[1;32m     15\u001b[0m                                 dataset_dict\u001b[38;5;241m=\u001b[39mdataset_dict, \n\u001b[1;32m     16\u001b[0m                                 network_params\u001b[38;5;241m=\u001b[39mconfig[\u001b[38;5;124m'\u001b[39m\u001b[38;5;124mnetwork\u001b[39m\u001b[38;5;124m'\u001b[39m])\n\u001b[0;32m---> 17\u001b[0m     model, best_acc, info \u001b[38;5;241m=\u001b[39m train_job\u001b[38;5;241m.\u001b[39mtrain(experiment_output_dir \u001b[38;5;241m+\u001b[39m \u001b[38;5;124m'\u001b[39m\u001b[38;5;124m/\u001b[39m\u001b[38;5;124m'\u001b[39m \u001b[38;5;241m+\u001b[39m \u001b[38;5;28mstr\u001b[39m(j), \n\u001b[1;32m     18\u001b[0m                                     optimization_params\u001b[38;5;241m=\u001b[39mconfig[\u001b[38;5;124m'\u001b[39m\u001b[38;5;124moptimization\u001b[39m\u001b[38;5;124m'\u001b[39m],\n\u001b[1;32m     19\u001b[0m                                     early_stop_window\u001b[38;5;241m=\u001b[39mconfig[\u001b[38;5;124m'\u001b[39m\u001b[38;5;124mrun_control\u001b[39m\u001b[38;5;124m'\u001b[39m][\u001b[38;5;124m'\u001b[39m\u001b[38;5;124mearly_stop_window\u001b[39m\u001b[38;5;124m'\u001b[39m], \n\u001b[1;32m     20\u001b[0m                                     verbose\u001b[38;5;241m=\u001b[39m\u001b[38;5;28;01mTrue\u001b[39;00m)\n\u001b[1;32m     22\u001b[0m     val_accuracy_list\u001b[38;5;241m.\u001b[39mappend(best_acc[\u001b[38;5;241m0\u001b[39m] \u001b[38;5;241m*\u001b[39m \u001b[38;5;241m100\u001b[39m)\n\u001b[1;32m     23\u001b[0m     test_accuracy_list\u001b[38;5;241m.\u001b[39mappend(best_acc[\u001b[38;5;241m1\u001b[39m] \u001b[38;5;241m*\u001b[39m \u001b[38;5;241m100\u001b[39m)\n",
      "\u001b[0;31mValueError\u001b[0m: not enough values to unpack (expected 3, got 2)"
     ]
    }
   ],
   "source": [
    "experiment_output_dir = os.path.join(PROJECT_DIR, config['logger']['output_dir'])\n",
    "print(f\"output direcotry: {experiment_output_dir}\")\n",
    "if os.path.exists(experiment_output_dir):\n",
    "    input(\"Output directory exists. Existing contents might be over-written. Press any key to proceed...\")\n",
    "else:\n",
    "    os.mkdir(experiment_output_dir)\n",
    "\n",
    "test_accuracy_list = []\n",
    "val_accuracy_list = []\n",
    "training_time_list = []\n",
    "training_epoch_list = []\n",
    "test_time_list = []\n",
    "for j in range(config['run_control']['num_runs']):\n",
    "    train_job = BaseTrainingJob(network_type=config['data']['type'],\n",
    "                                dataset_dict=dataset_dict, \n",
    "                                network_params=config['network'])\n",
    "    model, best_acc, info = train_job.train(experiment_output_dir + '/' + str(j), \n",
    "                                    optimization_params=config['optimization'],\n",
    "                                    early_stop_window=config['run_control']['early_stop_window'], \n",
    "                                    verbose=True)\n",
    "\n",
    "    val_accuracy_list.append(best_acc[0] * 100)\n",
    "    test_accuracy_list.append(best_acc[1] * 100)\n",
    "    training_time_list.append(info['training_time'])\n",
    "    training_epoch_list.append(info['num_epochs'])\n",
    "    test_time_list.append(info['test_time'])"
   ]
  },
  {
   "cell_type": "code",
   "execution_count": null,
   "metadata": {},
   "outputs": [],
   "source": []
  }
 ],
 "metadata": {
  "kernelspec": {
   "display_name": "hydra-gnn",
   "language": "python",
   "name": "venv_hydra_gnn"
  },
  "language_info": {
   "codemirror_mode": {
    "name": "ipython",
    "version": 3
   },
   "file_extension": ".py",
   "mimetype": "text/x-python",
   "name": "python",
   "nbconvert_exporter": "python",
   "pygments_lexer": "ipython3",
   "version": "3.8.5"
  },
  "latex_envs": {
   "LaTeX_envs_menu_present": true,
   "autoclose": false,
   "autocomplete": true,
   "bibliofile": "biblio.bib",
   "cite_by": "apalike",
   "current_citInitial": 1,
   "eqLabelWithNumbers": true,
   "eqNumInitial": 1,
   "hotkeys": {
    "equation": "Ctrl-E",
    "itemize": "Ctrl-I"
   },
   "labels_anchors": false,
   "latex_user_defs": false,
   "report_style_numbering": false,
   "user_envs_cfg": false
  },
  "toc": {
   "base_numbering": 1,
   "nav_menu": {},
   "number_sections": true,
   "sideBar": true,
   "skip_h1_title": false,
   "title_cell": "Table of Contents",
   "title_sidebar": "Contents",
   "toc_cell": false,
   "toc_position": {},
   "toc_section_display": true,
   "toc_window_display": false
  },
  "varInspector": {
   "cols": {
    "lenName": 16,
    "lenType": 16,
    "lenVar": 40
   },
   "kernels_config": {
    "python": {
     "delete_cmd_postfix": "",
     "delete_cmd_prefix": "del ",
     "library": "var_list.py",
     "varRefreshCmd": "print(var_dic_list())"
    },
    "r": {
     "delete_cmd_postfix": ") ",
     "delete_cmd_prefix": "rm(",
     "library": "var_list.r",
     "varRefreshCmd": "cat(var_dic_list()) "
    }
   },
   "types_to_exclude": [
    "module",
    "function",
    "builtin_function_or_method",
    "instance",
    "_Feature"
   ],
   "window_display": false
  }
 },
 "nbformat": 4,
 "nbformat_minor": 4
}
