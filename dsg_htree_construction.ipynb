{
 "cells": [
  {
   "cell_type": "code",
   "execution_count": 14,
   "id": "055982d6",
   "metadata": {
    "pycharm": {
     "name": "#%%\n"
    }
   },
   "outputs": [],
   "source": [
    "import networkx as nx\n",
    "from torch_geometric.data import Data\n",
    "from torch_geometric.utils import to_networkx\n",
    "\n",
    "# from datasets.mp3d import MP3D, extract_object_graph, extract_room_graph\n",
    "from neural_tree.construct import generate_htree, nx_dsg_jth_to_torch\n",
    "import datasets.mp3d as mp3d\n",
    "\n",
    "mp3d.BASE_DIR = './'"
   ]
  },
  {
   "cell_type": "markdown",
   "id": "e6cb1998",
   "metadata": {
    "pycharm": {
     "name": "#%% md\n"
    }
   },
   "source": [
    "## Extracting MP3D Hydra Data"
   ]
  },
  {
   "cell_type": "code",
   "execution_count": 18,
   "id": "9312322b",
   "metadata": {
    "pycharm": {
     "name": "#%%\n"
    }
   },
   "outputs": [],
   "source": [
    "# required\n",
    "dset = mp3d.MP3D(complete=True)\n",
    "\n",
    "data = dset[0]\n",
    "graph_torch = data['dsg_torch']\n",
    "\n",
    "object_graph = mp3d.extract_object_graph(graph_torch, tonx=False)\n",
    "room_graph = mp3d.extract_room_graph(graph_torch, tonx=False)"
   ]
  },
  {
   "cell_type": "code",
   "execution_count": 19,
   "id": "a66b1634",
   "metadata": {
    "pycharm": {
     "name": "#%%\n"
    }
   },
   "outputs": [
    {
     "data": {
      "text/plain": [
       "HeteroData(\n",
       "  \u001b[1mobjects\u001b[0m={\n",
       "    x=[74, 6],\n",
       "    pos=[74, 3],\n",
       "    label=[74]\n",
       "  },\n",
       "  \u001b[1mrooms\u001b[0m={\n",
       "    x=[12, 6],\n",
       "    pos=[12, 3],\n",
       "    label=[12]\n",
       "  },\n",
       "  \u001b[1m(objects, objects_to_objects, objects)\u001b[0m={\n",
       "    edge_index=[2, 284],\n",
       "    edge_attrs={\n",
       "      objects_to_objects=[0],\n",
       "      rooms_to_rooms=[0],\n",
       "      rooms_to_objects=[0]\n",
       "    }\n",
       "  },\n",
       "  \u001b[1m(rooms, rooms_to_rooms, rooms)\u001b[0m={\n",
       "    edge_index=[2, 16],\n",
       "    edge_attrs={\n",
       "      objects_to_objects=[0],\n",
       "      rooms_to_rooms=[0],\n",
       "      rooms_to_objects=[0]\n",
       "    }\n",
       "  },\n",
       "  \u001b[1m(rooms, rooms_to_objects, objects)\u001b[0m={\n",
       "    edge_index=[2, 74],\n",
       "    edge_attrs={\n",
       "      objects_to_objects=[0],\n",
       "      rooms_to_rooms=[0],\n",
       "      rooms_to_objects=[0]\n",
       "    }\n",
       "  }\n",
       ")"
      ]
     },
     "execution_count": 19,
     "metadata": {},
     "output_type": "execute_result"
    }
   ],
   "source": [
    "graph_torch"
   ]
  },
  {
   "cell_type": "code",
   "execution_count": 20,
   "id": "3623166d",
   "metadata": {
    "pycharm": {
     "name": "#%%\n"
    },
    "scrolled": false
   },
   "outputs": [],
   "source": [
    "# this generates htree for each connected component of graph_torch\n",
    "\n",
    "htree_list = generate_htree(graph_torch)"
   ]
  },
  {
   "cell_type": "code",
   "execution_count": 21,
   "id": "4795cb60",
   "metadata": {
    "pycharm": {
     "name": "#%%\n"
    },
    "scrolled": true
   },
   "outputs": [
    {
     "data": {
      "text/plain": [
       "4"
      ]
     },
     "execution_count": 21,
     "metadata": {},
     "output_type": "execute_result"
    }
   ],
   "source": [
    "# the number of htrees generated\n",
    "\n",
    "len(htree_list)"
   ]
  },
  {
   "cell_type": "code",
   "execution_count": 22,
   "id": "884ed371",
   "metadata": {
    "pycharm": {
     "name": "#%%\n"
    }
   },
   "outputs": [],
   "source": [
    "# use .jth to extract jth\n",
    "\n",
    "nx_dsg_jth = htree_list[0].jth"
   ]
  },
  {
   "cell_type": "code",
   "execution_count": 23,
   "id": "edf8b619",
   "metadata": {
    "pycharm": {
     "name": "#%%\n"
    }
   },
   "outputs": [],
   "source": [
    "# convert one htree in the list to HeteroData\n",
    "\n",
    "torch_dsg_jth = nx_dsg_jth_to_torch(nx_dsg_jth)"
   ]
  },
  {
   "cell_type": "code",
   "execution_count": 24,
   "id": "5c548e37",
   "metadata": {
    "pycharm": {
     "name": "#%%\n"
    }
   },
   "outputs": [
    {
     "data": {
      "text/plain": [
       "HeteroData(\n",
       "  \u001b[1mobject\u001b[0m={\n",
       "    x=[741, 6],\n",
       "    y=[741],\n",
       "    pos=[741, 3]\n",
       "  },\n",
       "  \u001b[1mroom\u001b[0m={\n",
       "    x=[253, 6],\n",
       "    y=[253],\n",
       "    pos=[253, 3]\n",
       "  },\n",
       "  \u001b[1mobject-room\u001b[0m={\n",
       "    x=[329, 6],\n",
       "    y=[329],\n",
       "    pos=[329, 3]\n",
       "  },\n",
       "  \u001b[1mroom-room\u001b[0m={\n",
       "    x=[8, 6],\n",
       "    y=[8],\n",
       "    pos=[8, 3]\n",
       "  },\n",
       "  \u001b[1m(object-room, 0, object)\u001b[0m={ edge_index=[2, 741] },\n",
       "  \u001b[1m(object-room, 1, room)\u001b[0m={ edge_index=[2, 237] },\n",
       "  \u001b[1m(room-room, 2, room)\u001b[0m={ edge_index=[2, 16] },\n",
       "  \u001b[1m(room-room, 3, object-room)\u001b[0m={ edge_index=[2, 75] },\n",
       "  \u001b[1m(object-room, 4, object-room)\u001b[0m={ edge_index=[2, 254] },\n",
       "  \u001b[1m(room-room, 5, room-room)\u001b[0m={ edge_index=[2, 14] }\n",
       ")"
      ]
     },
     "execution_count": 24,
     "metadata": {},
     "output_type": "execute_result"
    }
   ],
   "source": [
    "torch_dsg_jth"
   ]
  },
  {
   "cell_type": "code",
   "execution_count": 25,
   "id": "b0020a26",
   "metadata": {
    "pycharm": {
     "name": "#%%\n"
    }
   },
   "outputs": [
    {
     "data": {
      "text/plain": [
       "HeteroData(\n",
       "  \u001b[1mobjects\u001b[0m={\n",
       "    x=[74, 6],\n",
       "    pos=[74, 3],\n",
       "    label=[74]\n",
       "  },\n",
       "  \u001b[1mrooms\u001b[0m={\n",
       "    x=[12, 6],\n",
       "    pos=[12, 3],\n",
       "    label=[12]\n",
       "  },\n",
       "  \u001b[1m(objects, objects_to_objects, objects)\u001b[0m={\n",
       "    edge_index=[2, 284],\n",
       "    edge_attrs={\n",
       "      objects_to_objects=[0],\n",
       "      rooms_to_rooms=[0],\n",
       "      rooms_to_objects=[0]\n",
       "    }\n",
       "  },\n",
       "  \u001b[1m(rooms, rooms_to_rooms, rooms)\u001b[0m={\n",
       "    edge_index=[2, 16],\n",
       "    edge_attrs={\n",
       "      objects_to_objects=[0],\n",
       "      rooms_to_rooms=[0],\n",
       "      rooms_to_objects=[0]\n",
       "    }\n",
       "  },\n",
       "  \u001b[1m(rooms, rooms_to_objects, objects)\u001b[0m={\n",
       "    edge_index=[2, 74],\n",
       "    edge_attrs={\n",
       "      objects_to_objects=[0],\n",
       "      rooms_to_rooms=[0],\n",
       "      rooms_to_objects=[0]\n",
       "    }\n",
       "  }\n",
       ")"
      ]
     },
     "execution_count": 25,
     "metadata": {},
     "output_type": "execute_result"
    }
   ],
   "source": [
    "graph_torch"
   ]
  },
  {
   "cell_type": "code",
   "execution_count": null,
   "id": "df01ad4a",
   "metadata": {
    "pycharm": {
     "name": "#%%\n"
    }
   },
   "outputs": [],
   "source": []
  }
 ],
 "metadata": {
  "kernelspec": {
   "display_name": "Python 3 (ipykernel)",
   "language": "python",
   "name": "python3"
  },
  "language_info": {
   "codemirror_mode": {
    "name": "ipython",
    "version": 3
   },
   "file_extension": ".py",
   "mimetype": "text/x-python",
   "name": "python",
   "nbconvert_exporter": "python",
   "pygments_lexer": "ipython3",
   "version": "3.8.10"
  }
 },
 "nbformat": 4,
 "nbformat_minor": 5
}
