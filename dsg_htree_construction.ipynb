{
 "cells": [
  {
   "cell_type": "code",
   "execution_count": 3,
   "id": "055982d6",
   "metadata": {},
   "outputs": [],
   "source": [
    "import networkx as nx\n",
    "from torch_geometric.data import Data\n",
    "from torch_geometric.utils import to_networkx\n",
    "\n",
    "from datasets.mp3d import MP3D, extract_object_graph, extract_room_graph\n",
    "from neural_tree.construct import generate_htree, nx_dsg_jth_to_torch"
   ]
  },
  {
   "cell_type": "markdown",
   "id": "e6cb1998",
   "metadata": {},
   "source": [
    "## Extracting MP3D Hydra Data"
   ]
  },
  {
   "cell_type": "code",
   "execution_count": 20,
   "id": "9312322b",
   "metadata": {},
   "outputs": [],
   "source": [
    "# required\n",
    "dset = MP3D(complete=True)\n",
    "\n",
    "data = dset[0]\n",
    "graph_torch = data['dsg_torch']\n",
    "\n",
    "object_graph = extract_object_graph(graph_torch, tonx=False)\n",
    "room_graph = extract_room_graph(graph_torch, tonx=False)"
   ]
  },
  {
   "cell_type": "code",
   "execution_count": 21,
   "id": "571eed6f",
   "metadata": {},
   "outputs": [
    {
     "data": {
      "text/plain": [
       "HeteroData(\n",
       "  \u001b[1mobjects\u001b[0m={\n",
       "    x=[74, 6],\n",
       "    pos=[74, 3],\n",
       "    label=[74]\n",
       "  },\n",
       "  \u001b[1mrooms\u001b[0m={\n",
       "    x=[12, 6],\n",
       "    pos=[12, 3],\n",
       "    label=[12]\n",
       "  },\n",
       "  \u001b[1m(objects, objects_to_objects, objects)\u001b[0m={\n",
       "    edge_index=[2, 284],\n",
       "    edge_attrs={\n",
       "      objects_to_objects=[0],\n",
       "      rooms_to_rooms=[0],\n",
       "      rooms_to_objects=[0]\n",
       "    }\n",
       "  },\n",
       "  \u001b[1m(rooms, rooms_to_rooms, rooms)\u001b[0m={\n",
       "    edge_index=[2, 16],\n",
       "    edge_attrs={\n",
       "      objects_to_objects=[0],\n",
       "      rooms_to_rooms=[0],\n",
       "      rooms_to_objects=[0]\n",
       "    }\n",
       "  },\n",
       "  \u001b[1m(rooms, rooms_to_objects, objects)\u001b[0m={\n",
       "    edge_index=[2, 74],\n",
       "    edge_attrs={\n",
       "      objects_to_objects=[0],\n",
       "      rooms_to_rooms=[0],\n",
       "      rooms_to_objects=[0]\n",
       "    }\n",
       "  }\n",
       ")"
      ]
     },
     "execution_count": 21,
     "metadata": {},
     "output_type": "execute_result"
    }
   ],
   "source": [
    "graph_torch"
   ]
  },
  {
   "cell_type": "code",
   "execution_count": 23,
   "id": "475961a1",
   "metadata": {},
   "outputs": [
    {
     "data": {
      "text/plain": [
       "HeteroData(\n",
       "  \u001b[1mobjects\u001b[0m={\n",
       "    x=[5, 6],\n",
       "    pos=[5, 3],\n",
       "    label=[5]\n",
       "  },\n",
       "  \u001b[1mrooms\u001b[0m={\n",
       "    x=[1, 6],\n",
       "    pos=[1, 3],\n",
       "    label=[1]\n",
       "  },\n",
       "  \u001b[1m(objects, objects_to_objects, objects)\u001b[0m={\n",
       "    edge_index=[2, 16],\n",
       "    edge_attrs={\n",
       "      objects_to_objects=[0],\n",
       "      rooms_to_objects=[0]\n",
       "    }\n",
       "  },\n",
       "  \u001b[1m(rooms, rooms_to_objects, objects)\u001b[0m={\n",
       "    edge_index=[2, 5],\n",
       "    edge_attrs={\n",
       "      objects_to_objects=[0],\n",
       "      rooms_to_objects=[0]\n",
       "    }\n",
       "  }\n",
       ")"
      ]
     },
     "execution_count": 23,
     "metadata": {},
     "output_type": "execute_result"
    }
   ],
   "source": [
    "data = dset[1]\n",
    "graph_torch = data['dsg_torch']\n",
    "graph_torch"
   ]
  },
  {
   "cell_type": "code",
   "execution_count": 12,
   "id": "3623166d",
   "metadata": {
    "scrolled": false
   },
   "outputs": [
    {
     "ename": "AttributeError",
     "evalue": "'EdgeStorage' object has no attribute 'edge_index'",
     "output_type": "error",
     "traceback": [
      "\u001b[0;31m---------------------------------------------------------------------------\u001b[0m",
      "\u001b[0;31mKeyError\u001b[0m                                  Traceback (most recent call last)",
      "File \u001b[0;32m~/Documents/Environments/hydra/lib/python3.8/site-packages/torch_geometric/data/storage.py:62\u001b[0m, in \u001b[0;36mBaseStorage.__getattr__\u001b[0;34m(self, key)\u001b[0m\n\u001b[1;32m     61\u001b[0m \u001b[38;5;28;01mtry\u001b[39;00m:\n\u001b[0;32m---> 62\u001b[0m     \u001b[38;5;28;01mreturn\u001b[39;00m \u001b[38;5;28;43mself\u001b[39;49m\u001b[43m[\u001b[49m\u001b[43mkey\u001b[49m\u001b[43m]\u001b[49m\n\u001b[1;32m     63\u001b[0m \u001b[38;5;28;01mexcept\u001b[39;00m \u001b[38;5;167;01mKeyError\u001b[39;00m:\n",
      "File \u001b[0;32m~/Documents/Environments/hydra/lib/python3.8/site-packages/torch_geometric/data/storage.py:85\u001b[0m, in \u001b[0;36mBaseStorage.__getitem__\u001b[0;34m(self, key)\u001b[0m\n\u001b[1;32m     84\u001b[0m \u001b[38;5;28;01mdef\u001b[39;00m \u001b[38;5;21m__getitem__\u001b[39m(\u001b[38;5;28mself\u001b[39m, key: \u001b[38;5;28mstr\u001b[39m) \u001b[38;5;241m-\u001b[39m\u001b[38;5;241m>\u001b[39m Any:\n\u001b[0;32m---> 85\u001b[0m     \u001b[38;5;28;01mreturn\u001b[39;00m \u001b[38;5;28;43mself\u001b[39;49m\u001b[38;5;241;43m.\u001b[39;49m\u001b[43m_mapping\u001b[49m\u001b[43m[\u001b[49m\u001b[43mkey\u001b[49m\u001b[43m]\u001b[49m\n",
      "\u001b[0;31mKeyError\u001b[0m: 'edge_index'",
      "\nDuring handling of the above exception, another exception occurred:\n",
      "\u001b[0;31mAttributeError\u001b[0m                            Traceback (most recent call last)",
      "Cell \u001b[0;32mIn[12], line 3\u001b[0m\n\u001b[1;32m      1\u001b[0m \u001b[38;5;66;03m# this generates htree for each connected component of graph_torch\u001b[39;00m\n\u001b[0;32m----> 3\u001b[0m htree_list \u001b[38;5;241m=\u001b[39m \u001b[43mgenerate_htree\u001b[49m\u001b[43m(\u001b[49m\u001b[43mgraph_torch\u001b[49m\u001b[43m)\u001b[49m\n",
      "File \u001b[0;32m~/Dropbox (MIT)/HandsOn/Hydra-GNN/neural_tree/construct.py:325\u001b[0m, in \u001b[0;36mgenerate_htree\u001b[0;34m(dsg_torch)\u001b[0m\n\u001b[1;32m    319\u001b[0m \u001b[38;5;124;03m\"\"\"\u001b[39;00m\n\u001b[1;32m    320\u001b[0m \u001b[38;5;124;03mtakes in heterogeneous dsg_torch and generates h-tree using the sequential procedure.\u001b[39;00m\n\u001b[1;32m    321\u001b[0m \n\u001b[1;32m    322\u001b[0m \u001b[38;5;124;03m\"\"\"\u001b[39;00m\n\u001b[1;32m    324\u001b[0m \u001b[38;5;66;03m# converting to networkx\u001b[39;00m\n\u001b[0;32m--> 325\u001b[0m dsg_nx \u001b[38;5;241m=\u001b[39m \u001b[43mdsg_torch_to_nx\u001b[49m\u001b[43m(\u001b[49m\u001b[43mdsg_torch\u001b[49m\u001b[43m)\u001b[49m\n\u001b[1;32m    326\u001b[0m htree_list \u001b[38;5;241m=\u001b[39m []\n\u001b[1;32m    328\u001b[0m \u001b[38;5;66;03m# iterating over each connected component in dsg_nx\u001b[39;00m\n",
      "File \u001b[0;32m~/Dropbox (MIT)/HandsOn/Hydra-GNN/neural_tree/construct.py:123\u001b[0m, in \u001b[0;36mdsg_torch_to_nx\u001b[0;34m(dsg_torch)\u001b[0m\n\u001b[1;32m    117\u001b[0m \u001b[38;5;124;03m\"\"\"\u001b[39;00m\n\u001b[1;32m    118\u001b[0m \u001b[38;5;124;03mconverts heterogeneous dsg_nx to a networkx graph, with object and room nodes labeled with node_type\u001b[39;00m\n\u001b[1;32m    119\u001b[0m \n\u001b[1;32m    120\u001b[0m \u001b[38;5;124;03m\"\"\"\u001b[39;00m\n\u001b[1;32m    122\u001b[0m \u001b[38;5;66;03m# converting to networkx\u001b[39;00m\n\u001b[0;32m--> 123\u001b[0m _g \u001b[38;5;241m=\u001b[39m \u001b[43mdsg_torch\u001b[49m\u001b[38;5;241;43m.\u001b[39;49m\u001b[43mto_homogeneous\u001b[49m\u001b[43m(\u001b[49m\u001b[43m)\u001b[49m\n\u001b[1;32m    124\u001b[0m dsg_nx \u001b[38;5;241m=\u001b[39m to_networkx(_g, node_attrs\u001b[38;5;241m=\u001b[39m[\u001b[38;5;124m'\u001b[39m\u001b[38;5;124mx\u001b[39m\u001b[38;5;124m'\u001b[39m, \u001b[38;5;124m'\u001b[39m\u001b[38;5;124mpos\u001b[39m\u001b[38;5;124m'\u001b[39m, \u001b[38;5;124m'\u001b[39m\u001b[38;5;124mlabel\u001b[39m\u001b[38;5;124m'\u001b[39m, \u001b[38;5;124m'\u001b[39m\u001b[38;5;124mnode_type\u001b[39m\u001b[38;5;124m'\u001b[39m])\u001b[38;5;241m.\u001b[39mto_undirected()\n\u001b[1;32m    126\u001b[0m \u001b[38;5;66;03m# changing node_type from 0/1 to object/room\u001b[39;00m\n",
      "File \u001b[0;32m~/Documents/Environments/hydra/lib/python3.8/site-packages/torch_geometric/data/hetero_data.py:751\u001b[0m, in \u001b[0;36mHeteroData.to_homogeneous\u001b[0;34m(self, node_attrs, edge_attrs, add_node_type, add_edge_type, dummy_values)\u001b[0m\n\u001b[1;32m    748\u001b[0m     fill_dummy_(\u001b[38;5;28mself\u001b[39m\u001b[38;5;241m.\u001b[39mnode_stores, node_attrs)\n\u001b[1;32m    749\u001b[0m     fill_dummy_(\u001b[38;5;28mself\u001b[39m\u001b[38;5;241m.\u001b[39medge_stores, edge_attrs)\n\u001b[0;32m--> 751\u001b[0m edge_index, node_slices, edge_slices \u001b[38;5;241m=\u001b[39m \u001b[43mto_homogeneous_edge_index\u001b[49m\u001b[43m(\u001b[49m\u001b[38;5;28;43mself\u001b[39;49m\u001b[43m)\u001b[49m\n\u001b[1;32m    752\u001b[0m device \u001b[38;5;241m=\u001b[39m edge_index\u001b[38;5;241m.\u001b[39mdevice \u001b[38;5;28;01mif\u001b[39;00m edge_index \u001b[38;5;129;01mis\u001b[39;00m \u001b[38;5;129;01mnot\u001b[39;00m \u001b[38;5;28;01mNone\u001b[39;00m \u001b[38;5;28;01melse\u001b[39;00m \u001b[38;5;28;01mNone\u001b[39;00m\n\u001b[1;32m    754\u001b[0m data \u001b[38;5;241m=\u001b[39m Data(\u001b[38;5;241m*\u001b[39m\u001b[38;5;241m*\u001b[39m\u001b[38;5;28mself\u001b[39m\u001b[38;5;241m.\u001b[39m_global_store\u001b[38;5;241m.\u001b[39mto_dict())\n",
      "File \u001b[0;32m~/Documents/Environments/hydra/lib/python3.8/site-packages/torch_geometric/data/hetero_data.py:945\u001b[0m, in \u001b[0;36mto_homogeneous_edge_index\u001b[0;34m(data)\u001b[0m\n\u001b[1;32m    943\u001b[0m src, _, dst \u001b[38;5;241m=\u001b[39m edge_type\n\u001b[1;32m    944\u001b[0m offset \u001b[38;5;241m=\u001b[39m [[node_slices[src][\u001b[38;5;241m0\u001b[39m]], [node_slices[dst][\u001b[38;5;241m0\u001b[39m]]]\n\u001b[0;32m--> 945\u001b[0m offset \u001b[38;5;241m=\u001b[39m torch\u001b[38;5;241m.\u001b[39mtensor(offset, device\u001b[38;5;241m=\u001b[39m\u001b[43mstore\u001b[49m\u001b[38;5;241;43m.\u001b[39;49m\u001b[43medge_index\u001b[49m\u001b[38;5;241m.\u001b[39mdevice)\n\u001b[1;32m    946\u001b[0m edge_indices\u001b[38;5;241m.\u001b[39mappend(store\u001b[38;5;241m.\u001b[39medge_index \u001b[38;5;241m+\u001b[39m offset)\n\u001b[1;32m    948\u001b[0m num_edges \u001b[38;5;241m=\u001b[39m store\u001b[38;5;241m.\u001b[39mnum_edges\n",
      "File \u001b[0;32m~/Documents/Environments/hydra/lib/python3.8/site-packages/torch_geometric/data/storage.py:64\u001b[0m, in \u001b[0;36mBaseStorage.__getattr__\u001b[0;34m(self, key)\u001b[0m\n\u001b[1;32m     62\u001b[0m     \u001b[38;5;28;01mreturn\u001b[39;00m \u001b[38;5;28mself\u001b[39m[key]\n\u001b[1;32m     63\u001b[0m \u001b[38;5;28;01mexcept\u001b[39;00m \u001b[38;5;167;01mKeyError\u001b[39;00m:\n\u001b[0;32m---> 64\u001b[0m     \u001b[38;5;28;01mraise\u001b[39;00m \u001b[38;5;167;01mAttributeError\u001b[39;00m(\n\u001b[1;32m     65\u001b[0m         \u001b[38;5;124mf\u001b[39m\u001b[38;5;124m\"\u001b[39m\u001b[38;5;124m'\u001b[39m\u001b[38;5;132;01m{\u001b[39;00m\u001b[38;5;28mself\u001b[39m\u001b[38;5;241m.\u001b[39m\u001b[38;5;18m__class__\u001b[39m\u001b[38;5;241m.\u001b[39m\u001b[38;5;18m__name__\u001b[39m\u001b[38;5;132;01m}\u001b[39;00m\u001b[38;5;124m'\u001b[39m\u001b[38;5;124m object has no attribute \u001b[39m\u001b[38;5;124m'\u001b[39m\u001b[38;5;132;01m{\u001b[39;00mkey\u001b[38;5;132;01m}\u001b[39;00m\u001b[38;5;124m'\u001b[39m\u001b[38;5;124m\"\u001b[39m)\n",
      "\u001b[0;31mAttributeError\u001b[0m: 'EdgeStorage' object has no attribute 'edge_index'"
     ]
    }
   ],
   "source": [
    "# this generates htree for each connected component of graph_torch\n",
    "\n",
    "htree_list = generate_htree(graph_torch)"
   ]
  },
  {
   "cell_type": "code",
   "execution_count": 6,
   "id": "4795cb60",
   "metadata": {
    "scrolled": true
   },
   "outputs": [
    {
     "data": {
      "text/plain": [
       "4"
      ]
     },
     "execution_count": 6,
     "metadata": {},
     "output_type": "execute_result"
    }
   ],
   "source": [
    "# the number of htrees generated\n",
    "\n",
    "len(htree_list)"
   ]
  },
  {
   "cell_type": "code",
   "execution_count": 7,
   "id": "884ed371",
   "metadata": {},
   "outputs": [],
   "source": [
    "# use .jth to extract jth\n",
    "\n",
    "nx_dsg_jth = htree_list[0].jth"
   ]
  },
  {
   "cell_type": "code",
   "execution_count": 8,
   "id": "edf8b619",
   "metadata": {},
   "outputs": [],
   "source": [
    "# convert one htree in the list to HeteroData\n",
    "\n",
    "torch_dsg_jth = nx_dsg_jth_to_torch(nx_dsg_jth)"
   ]
  },
  {
   "cell_type": "code",
   "execution_count": 9,
   "id": "5c548e37",
   "metadata": {},
   "outputs": [
    {
     "data": {
      "text/plain": [
       "HeteroData(\n",
       "  \u001b[1mobject\u001b[0m={\n",
       "    x=[627, 6],\n",
       "    y=[627],\n",
       "    pos=[627, 3]\n",
       "  },\n",
       "  \u001b[1mroom\u001b[0m={\n",
       "    x=[185, 6],\n",
       "    y=[185],\n",
       "    pos=[185, 3]\n",
       "  },\n",
       "  \u001b[1mobject-room\u001b[0m={\n",
       "    x=[209, 6],\n",
       "    y=[209],\n",
       "    pos=[209, 3]\n",
       "  },\n",
       "  \u001b[1mroom-room\u001b[0m={\n",
       "    x=[8, 6],\n",
       "    y=[8],\n",
       "    pos=[8, 3]\n",
       "  },\n",
       "  \u001b[1m(object-room, 0, object)\u001b[0m={ edge_index=[2, 627] },\n",
       "  \u001b[1m(object-room, 1, room)\u001b[0m={ edge_index=[2, 169] },\n",
       "  \u001b[1m(room-room, 2, room)\u001b[0m={ edge_index=[2, 16] },\n",
       "  \u001b[1m(room-room, 3, object-room)\u001b[0m={ edge_index=[2, 71] },\n",
       "  \u001b[1m(object-room, 4, object-room)\u001b[0m={ edge_index=[2, 138] },\n",
       "  \u001b[1m(room-room, 5, room-room)\u001b[0m={ edge_index=[2, 14] }\n",
       ")"
      ]
     },
     "execution_count": 9,
     "metadata": {},
     "output_type": "execute_result"
    }
   ],
   "source": [
    "torch_dsg_jth"
   ]
  },
  {
   "cell_type": "code",
   "execution_count": 10,
   "id": "b0020a26",
   "metadata": {},
   "outputs": [
    {
     "data": {
      "text/plain": [
       "HeteroData(\n",
       "  \u001b[1mobjects\u001b[0m={\n",
       "    x=[74, 6],\n",
       "    pos=[74, 3],\n",
       "    label=[74]\n",
       "  },\n",
       "  \u001b[1mrooms\u001b[0m={\n",
       "    x=[12, 6],\n",
       "    pos=[12, 3],\n",
       "    label=[12]\n",
       "  },\n",
       "  \u001b[1m(objects, objects_to_objects, objects)\u001b[0m={\n",
       "    edge_index=[2, 284],\n",
       "    edge_attrs={\n",
       "      objects_to_objects=[0],\n",
       "      rooms_to_rooms=[0],\n",
       "      rooms_to_objects=[0]\n",
       "    }\n",
       "  },\n",
       "  \u001b[1m(rooms, rooms_to_rooms, rooms)\u001b[0m={\n",
       "    edge_index=[2, 16],\n",
       "    edge_attrs={\n",
       "      objects_to_objects=[0],\n",
       "      rooms_to_rooms=[0],\n",
       "      rooms_to_objects=[0]\n",
       "    }\n",
       "  },\n",
       "  \u001b[1m(rooms, rooms_to_objects, objects)\u001b[0m={\n",
       "    edge_index=[2, 74],\n",
       "    edge_attrs={\n",
       "      objects_to_objects=[0],\n",
       "      rooms_to_rooms=[0],\n",
       "      rooms_to_objects=[0]\n",
       "    }\n",
       "  }\n",
       ")"
      ]
     },
     "execution_count": 10,
     "metadata": {},
     "output_type": "execute_result"
    }
   ],
   "source": [
    "graph_torch"
   ]
  },
  {
   "cell_type": "code",
   "execution_count": null,
   "id": "5856509b",
   "metadata": {},
   "outputs": [],
   "source": []
  },
  {
   "cell_type": "code",
   "execution_count": null,
   "id": "6de0e995",
   "metadata": {},
   "outputs": [],
   "source": []
  }
 ],
 "metadata": {
  "kernelspec": {
   "display_name": "Python 3 (ipykernel)",
   "language": "python",
   "name": "python3"
  },
  "language_info": {
   "codemirror_mode": {
    "name": "ipython",
    "version": 3
   },
   "file_extension": ".py",
   "mimetype": "text/x-python",
   "name": "python",
   "nbconvert_exporter": "python",
   "pygments_lexer": "ipython3",
   "version": "3.8.10"
  }
 },
 "nbformat": 4,
 "nbformat_minor": 5
}
